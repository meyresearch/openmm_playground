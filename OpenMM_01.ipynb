{
 "cells": [
  {
   "cell_type": "code",
   "execution_count": 1,
   "id": "c7a98be4",
   "metadata": {},
   "outputs": [],
   "source": [
    "# This is my openmm playground"
   ]
  },
  {
   "cell_type": "code",
   "execution_count": null,
   "id": "8049c0c4",
   "metadata": {},
   "outputs": [],
   "source": [
    "!pip install -q condacolab\n",
    "import condacolab\n",
    "condacolab.install()"
   ]
  },
  {
   "cell_type": "code",
   "execution_count": null,
   "id": "c20d1f27",
   "metadata": {},
   "outputs": [],
   "source": [
    "! conda install -c conda-forge openmm --yes"
   ]
  },
  {
   "cell_type": "code",
   "execution_count": null,
   "id": "560e4005",
   "metadata": {},
   "outputs": [],
   "source": []
  }
 ],
 "metadata": {
  "kernelspec": {
   "display_name": "Python 3 (ipykernel)",
   "language": "python",
   "name": "python3"
  },
  "language_info": {
   "codemirror_mode": {
    "name": "ipython",
    "version": 3
   },
   "file_extension": ".py",
   "mimetype": "text/x-python",
   "name": "python",
   "nbconvert_exporter": "python",
   "pygments_lexer": "ipython3",
   "version": "3.11.0"
  }
 },
 "nbformat": 4,
 "nbformat_minor": 5
}
